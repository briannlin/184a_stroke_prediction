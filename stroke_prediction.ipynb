{
 "cells": [
  {
   "cell_type": "markdown",
   "metadata": {},
   "source": [
    "# Stroke Prediction - Binary Classification of Strokes Given Patient Characteristics"
   ]
  },
  {
   "cell_type": "markdown",
   "metadata": {},
   "source": [
    "## 1. Reading and pre-processing datasets"
   ]
  },
  {
   "cell_type": "code",
   "execution_count": 16,
   "metadata": {},
   "outputs": [],
   "source": [
    "import numpy as np\n",
    "import pandas as pd\n",
    "import mltools as ml\n",
    "\n",
    "# data1 = np.genfromtxt('healthcare-dataset-stroke-data.csv', delimiter=',')\n",
    "# data2 = np.genfromtxt('train.csv', delimiter=',')\n",
    "# print(f\"Read healthcare-dataset-stroke-data.csv: {data1.shape}\")\n",
    "# print(f\"Read train.csv: {data2.shape}\")\n",
    "\n",
    "# data = np.concatenate((data1, data2), axis=0)\n",
    "# print(data.shape)\n",
    "\n",
    "# X = data[:,0]\n",
    "# X = np.atleast_2d(X).T\n",
    "# Y = data[:,1]\n",
    "# Xtr,Xva,Ytr,Yva = ml.splitData(X,Y,0.75)\n",
    "\n",
    "# print(f\"Xtr {Xtr.shape}\")\n",
    "# print(f\"Xva {Xva.shape}\")\n",
    "# print(f\"Ytr {Ytr.shape}\")\n",
    "# print(f\"Yva {Yva.shape}\")"
   ]
  },
  {
   "cell_type": "markdown",
   "metadata": {},
   "source": [
    "### Dropping rows with missing data"
   ]
  },
  {
   "cell_type": "code",
   "execution_count": 17,
   "metadata": {},
   "outputs": [
    {
     "name": "stdout",
     "output_type": "stream",
     "text": [
      "Dataset before processing:\n",
      "-------------------------\n",
      "Shape: (20414, 12)\n",
      "\n",
      "id                    19309\n",
      "gender                    3\n",
      "age                   106.0\n",
      "hypertension              2\n",
      "heart_disease             2\n",
      "ever_married              2\n",
      "work_type                 5\n",
      "Residence_type            2\n",
      "avg_glucose_level    4644.0\n",
      "bmi                   440.0\n",
      "smoking_status            4\n",
      "stroke                    2\n",
      "Name: unique, dtype: object\n",
      "\n",
      "\n",
      "Dataset after processing:\n",
      "-------------------------\n",
      "Shape after filtering out 'Unknown' values from smoking_status: (14327, 12)\n",
      "Shape after dropping NA values: (14187, 12)\n",
      "\n",
      "id                    13712\n",
      "gender                    3\n",
      "age                    82.0\n",
      "hypertension              2\n",
      "heart_disease             2\n",
      "ever_married              2\n",
      "work_type                 5\n",
      "Residence_type            2\n",
      "avg_glucose_level    4053.0\n",
      "bmi                   406.0\n",
      "smoking_status            3\n",
      "stroke                    2\n",
      "Name: unique, dtype: object\n"
     ]
    }
   ],
   "source": [
    "df1 = pd.read_csv(\"data/healthcare-dataset-stroke-data.csv\")\n",
    "df2 = pd.read_csv(\"data/train.csv\")\n",
    "df = pd.concat([df1, df2])\n",
    "\n",
    "print(\"Dataset before processing:\")\n",
    "print(\"-\" * 25)\n",
    "print(f\"Shape: {df.shape}\\n\")\n",
    "\n",
    "print(df.astype('object').describe(include='all').loc['unique', :])\n",
    "print()\n",
    "print()\n",
    "\n",
    "print(\"Dataset after processing:\")\n",
    "print(\"-\" * 25)\n",
    "\n",
    "df = df[df.smoking_status != \"Unknown\"]\n",
    "print(f\"Shape after filtering out 'Unknown' values from smoking_status: {df.shape}\")\n",
    "\n",
    "df = df.dropna()\n",
    "print(f\"Shape after dropping NA values: {df.shape}\\n\")\n",
    "\n",
    "print(df.astype('object').describe(include='all').loc['unique', :])"
   ]
  },
  {
   "cell_type": "markdown",
   "metadata": {},
   "source": [
    "### Standardizing numerical data"
   ]
  },
  {
   "cell_type": "code",
   "execution_count": 18,
   "metadata": {},
   "outputs": [
    {
     "name": "stdout",
     "output_type": "stream",
     "text": [
      "numerical data to standardize: Index(['age', 'avg_glucose_level', 'bmi'], dtype='object')\n",
      "\n",
      "          id  gender       age  hypertension  heart_disease ever_married  \\\n",
      "0       9046    Male  1.091476             0              1          Yes   \n",
      "2      31112    Male  1.816131             0              1          Yes   \n",
      "3      60182  Female  0.088109             0              0          Yes   \n",
      "4       1665  Female  1.760388             1              0          Yes   \n",
      "5      56669    Male  1.871874             0              0          Yes   \n",
      "...      ...     ...       ...           ...            ...          ...   \n",
      "15298  15298  Female -1.695656             0              0           No   \n",
      "15299  15299  Female -1.416943             0              0           No   \n",
      "15300  15300  Female -0.079119             1              0          Yes   \n",
      "15301  15301  Female  1.537418             0              0          Yes   \n",
      "15303  15303  Female -1.862884             0              0           No   \n",
      "\n",
      "           work_type Residence_type  avg_glucose_level       bmi  \\\n",
      "0            Private          Urban           3.922342  1.080068   \n",
      "2            Private          Rural           0.342755  0.443161   \n",
      "3            Private          Urban           2.246989  0.738313   \n",
      "4      Self-employed          Rural           2.331253 -0.877257   \n",
      "5            Private          Urban           2.683759 -0.100541   \n",
      "...              ...            ...                ...       ...   \n",
      "15298        Private          Rural          -0.481509 -0.752983   \n",
      "15299       Govt_job          Urban          -0.627877 -1.576302   \n",
      "15300        Private          Urban           0.204843  0.381024   \n",
      "15301  Self-employed          Urban          -0.188775 -0.535502   \n",
      "15303        Private          Rural          -0.263708 -0.768517   \n",
      "\n",
      "        smoking_status  stroke  \n",
      "0      formerly smoked       1  \n",
      "2         never smoked       1  \n",
      "3               smokes       1  \n",
      "4         never smoked       1  \n",
      "5      formerly smoked       1  \n",
      "...                ...     ...  \n",
      "15298           smokes       0  \n",
      "15299     never smoked       0  \n",
      "15300     never smoked       0  \n",
      "15301     never smoked       0  \n",
      "15303     never smoked       0  \n",
      "\n",
      "[14187 rows x 12 columns]\n"
     ]
    }
   ],
   "source": [
    "from sklearn.preprocessing import StandardScaler\n",
    "\n",
    "num_cols = df.columns[df.dtypes.apply(lambda c: np.issubdtype(c, np.number))]\n",
    "num_cols = num_cols.delete([0, 2, 3, 6])\n",
    "print(f\"numerical data to standardize: {num_cols}\\n\")\n",
    "\n",
    "scaler = StandardScaler()\n",
    "\n",
    "df[num_cols] = scaler.fit_transform(df[num_cols])\n",
    "print(df)"
   ]
  },
  {
   "cell_type": "markdown",
   "metadata": {},
   "source": [
    "### One-hot encoding categorical features"
   ]
  },
  {
   "cell_type": "code",
   "execution_count": 19,
   "metadata": {},
   "outputs": [
    {
     "name": "stdout",
     "output_type": "stream",
     "text": [
      "          id       age  hypertension  heart_disease  ever_married  \\\n",
      "0       9046  1.091476             0              1             1   \n",
      "2      31112  1.816131             0              1             1   \n",
      "3      60182  0.088109             0              0             1   \n",
      "4       1665  1.760388             1              0             1   \n",
      "5      56669  1.871874             0              0             1   \n",
      "...      ...       ...           ...            ...           ...   \n",
      "15298  15298 -1.695656             0              0             0   \n",
      "15299  15299 -1.416943             0              0             0   \n",
      "15300  15300 -0.079119             1              0             1   \n",
      "15301  15301  1.537418             0              0             1   \n",
      "15303  15303 -1.862884             0              0             0   \n",
      "\n",
      "       avg_glucose_level       bmi  stroke  gender_Female  gender_Male  ...  \\\n",
      "0               3.922342  1.080068       1              0            1  ...   \n",
      "2               0.342755  0.443161       1              0            1  ...   \n",
      "3               2.246989  0.738313       1              1            0  ...   \n",
      "4               2.331253 -0.877257       1              1            0  ...   \n",
      "5               2.683759 -0.100541       1              0            1  ...   \n",
      "...                  ...       ...     ...            ...          ...  ...   \n",
      "15298          -0.481509 -0.752983       0              1            0  ...   \n",
      "15299          -0.627877 -1.576302       0              1            0  ...   \n",
      "15300           0.204843  0.381024       0              1            0  ...   \n",
      "15301          -0.188775 -0.535502       0              1            0  ...   \n",
      "15303          -0.263708 -0.768517       0              1            0  ...   \n",
      "\n",
      "       work_type_Govt_job  work_type_Never_worked  work_type_Private  \\\n",
      "0                       0                       0                  1   \n",
      "2                       0                       0                  1   \n",
      "3                       0                       0                  1   \n",
      "4                       0                       0                  0   \n",
      "5                       0                       0                  1   \n",
      "...                   ...                     ...                ...   \n",
      "15298                   0                       0                  1   \n",
      "15299                   1                       0                  0   \n",
      "15300                   0                       0                  1   \n",
      "15301                   0                       0                  0   \n",
      "15303                   0                       0                  1   \n",
      "\n",
      "       work_type_Self-employed  work_type_children  Residence_type_Rural  \\\n",
      "0                            0                   0                     0   \n",
      "2                            0                   0                     1   \n",
      "3                            0                   0                     0   \n",
      "4                            1                   0                     1   \n",
      "5                            0                   0                     0   \n",
      "...                        ...                 ...                   ...   \n",
      "15298                        0                   0                     1   \n",
      "15299                        0                   0                     0   \n",
      "15300                        0                   0                     0   \n",
      "15301                        1                   0                     0   \n",
      "15303                        0                   0                     1   \n",
      "\n",
      "       Residence_type_Urban  smoking_status_formerly smoked  \\\n",
      "0                         1                               1   \n",
      "2                         0                               0   \n",
      "3                         1                               0   \n",
      "4                         0                               0   \n",
      "5                         1                               1   \n",
      "...                     ...                             ...   \n",
      "15298                     0                               0   \n",
      "15299                     1                               0   \n",
      "15300                     1                               0   \n",
      "15301                     1                               0   \n",
      "15303                     0                               0   \n",
      "\n",
      "       smoking_status_never smoked  smoking_status_smokes  \n",
      "0                                0                      0  \n",
      "2                                1                      0  \n",
      "3                                0                      1  \n",
      "4                                1                      0  \n",
      "5                                0                      0  \n",
      "...                            ...                    ...  \n",
      "15298                            0                      1  \n",
      "15299                            1                      0  \n",
      "15300                            1                      0  \n",
      "15301                            1                      0  \n",
      "15303                            1                      0  \n",
      "\n",
      "[14187 rows x 21 columns]\n"
     ]
    }
   ],
   "source": [
    "df = pd.get_dummies(df, columns=['gender', 'work_type', 'Residence_type', 'smoking_status'],  dtype=int)\n",
    "df.replace({\"Yes\": 1, \"No\": 0}, inplace=True)\n",
    "\n",
    "print(df)"
   ]
  },
  {
   "cell_type": "markdown",
   "metadata": {},
   "source": [
    "## 2. Dataset and feature exploration"
   ]
  },
  {
   "cell_type": "code",
   "execution_count": null,
   "metadata": {},
   "outputs": [],
   "source": []
  }
 ],
 "metadata": {
  "kernelspec": {
   "display_name": "hw3",
   "language": "python",
   "name": "python3"
  },
  "language_info": {
   "codemirror_mode": {
    "name": "ipython",
    "version": 3
   },
   "file_extension": ".py",
   "mimetype": "text/x-python",
   "name": "python",
   "nbconvert_exporter": "python",
   "pygments_lexer": "ipython3",
   "version": "3.8.18"
  }
 },
 "nbformat": 4,
 "nbformat_minor": 2
}
